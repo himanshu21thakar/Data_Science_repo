{
  "nbformat": 4,
  "nbformat_minor": 0,
  "metadata": {
    "colab": {
      "provenance": []
    },
    "kernelspec": {
      "name": "python3",
      "display_name": "Python 3"
    },
    "language_info": {
      "name": "python"
    }
  },
  "cells": [
    {
      "cell_type": "code",
      "execution_count": 1,
      "metadata": {
        "id": "NFXLy0qfD3Vp"
      },
      "outputs": [],
      "source": [
        "import pandas as pd\n"
      ]
    },
    {
      "cell_type": "code",
      "source": [
        "df = pd.read_csv('/content/Smartphones_cleaned_dataset.csv')\n",
        "df"
      ],
      "metadata": {
        "colab": {
          "base_uri": "https://localhost:8080/",
          "height": 1938
        },
        "id": "66LdzSauEJAV",
        "outputId": "0c5ad703-01d0-403a-eaa1-2c879dd2d4cb"
      },
      "execution_count": 26,
      "outputs": [
        {
          "output_type": "execute_result",
          "data": {
            "text/plain": [
              "    brand_name                            model  price  rating  has_5g  \\\n",
              "0      oneplus                    OnePlus 11 5G  54999    89.0    True   \n",
              "1      oneplus        OnePlus Nord CE 2 Lite 5G  19989    81.0    True   \n",
              "2      samsung            Samsung Galaxy A14 5G  16499    75.0    True   \n",
              "3     motorola             Motorola Moto G62 5G  14999    81.0    True   \n",
              "4       realme               Realme 10 Pro Plus  24999    82.0    True   \n",
              "..         ...                              ...    ...     ...     ...   \n",
              "975   motorola       Motorola Moto Edge S30 Pro  34990    83.0    True   \n",
              "976      honor                      Honor X8 5G  14990    75.0    True   \n",
              "977       poco  POCO X4 GT 5G (8GB RAM + 256GB)  28990    85.0    True   \n",
              "978   motorola             Motorola Moto G91 5G  19990    80.0    True   \n",
              "979    samsung           Samsung Galaxy M52s 5G  24990    74.0    True   \n",
              "\n",
              "     has_nfc  has_ir_blaster processor_brand  num_cores  processor_speed  ...  \\\n",
              "0       True           False      snapdragon        8.0             3.20  ...   \n",
              "1      False           False      snapdragon        8.0             2.20  ...   \n",
              "2      False           False          exynos        8.0             2.40  ...   \n",
              "3      False           False      snapdragon        8.0             2.20  ...   \n",
              "4      False           False       dimensity        8.0             2.60  ...   \n",
              "..       ...             ...             ...        ...              ...  ...   \n",
              "975    False           False      snapdragon        8.0             3.00  ...   \n",
              "976    False           False      snapdragon        8.0             2.20  ...   \n",
              "977     True            True       dimensity        8.0             2.85  ...   \n",
              "978     True           False      snapdragon        8.0             2.20  ...   \n",
              "979    False           False             NaN        8.0              NaN  ...   \n",
              "\n",
              "     refresh_rate  num_rear_cameras  num_front_cameras       os  \\\n",
              "0             120                 3                1.0  android   \n",
              "1             120                 3                1.0  android   \n",
              "2              90                 3                1.0  android   \n",
              "3             120                 3                1.0  android   \n",
              "4             120                 3                1.0  android   \n",
              "..            ...               ...                ...      ...   \n",
              "975           120                 3                1.0  android   \n",
              "976            60                 3                1.0  android   \n",
              "977           144                 3                1.0  android   \n",
              "978            60                 3                1.0  android   \n",
              "979            60                 3                1.0  android   \n",
              "\n",
              "     primary_camera_rear  primary_camera_front  extended_memory_available  \\\n",
              "0                   50.0                  16.0                          0   \n",
              "1                   64.0                  16.0                          1   \n",
              "2                   50.0                  13.0                          1   \n",
              "3                   50.0                  16.0                          1   \n",
              "4                  108.0                  16.0                          0   \n",
              "..                   ...                   ...                        ...   \n",
              "975                 64.0                  16.0                          0   \n",
              "976                 48.0                   8.0                          1   \n",
              "977                 64.0                  16.0                          0   \n",
              "978                108.0                  32.0                          1   \n",
              "979                 64.0                  32.0                          1   \n",
              "\n",
              "     extended_upto  resolution_width resolution_height  \n",
              "0              NaN              1440              3216  \n",
              "1           1024.0              1080              2412  \n",
              "2           1024.0              1080              2408  \n",
              "3           1024.0              1080              2400  \n",
              "4              NaN              1080              2412  \n",
              "..             ...               ...               ...  \n",
              "975            NaN              1080              2460  \n",
              "976         1024.0               720              1600  \n",
              "977            NaN              1080              2460  \n",
              "978         1024.0              1080              2400  \n",
              "979         1024.0              1080              2400  \n",
              "\n",
              "[980 rows x 26 columns]"
            ],
            "text/html": [
              "\n",
              "  <div id=\"df-7f404ab2-dc45-49c1-9f26-0258070fbdef\" class=\"colab-df-container\">\n",
              "    <div>\n",
              "<style scoped>\n",
              "    .dataframe tbody tr th:only-of-type {\n",
              "        vertical-align: middle;\n",
              "    }\n",
              "\n",
              "    .dataframe tbody tr th {\n",
              "        vertical-align: top;\n",
              "    }\n",
              "\n",
              "    .dataframe thead th {\n",
              "        text-align: right;\n",
              "    }\n",
              "</style>\n",
              "<table border=\"1\" class=\"dataframe\">\n",
              "  <thead>\n",
              "    <tr style=\"text-align: right;\">\n",
              "      <th></th>\n",
              "      <th>brand_name</th>\n",
              "      <th>model</th>\n",
              "      <th>price</th>\n",
              "      <th>rating</th>\n",
              "      <th>has_5g</th>\n",
              "      <th>has_nfc</th>\n",
              "      <th>has_ir_blaster</th>\n",
              "      <th>processor_brand</th>\n",
              "      <th>num_cores</th>\n",
              "      <th>processor_speed</th>\n",
              "      <th>...</th>\n",
              "      <th>refresh_rate</th>\n",
              "      <th>num_rear_cameras</th>\n",
              "      <th>num_front_cameras</th>\n",
              "      <th>os</th>\n",
              "      <th>primary_camera_rear</th>\n",
              "      <th>primary_camera_front</th>\n",
              "      <th>extended_memory_available</th>\n",
              "      <th>extended_upto</th>\n",
              "      <th>resolution_width</th>\n",
              "      <th>resolution_height</th>\n",
              "    </tr>\n",
              "  </thead>\n",
              "  <tbody>\n",
              "    <tr>\n",
              "      <th>0</th>\n",
              "      <td>oneplus</td>\n",
              "      <td>OnePlus 11 5G</td>\n",
              "      <td>54999</td>\n",
              "      <td>89.0</td>\n",
              "      <td>True</td>\n",
              "      <td>True</td>\n",
              "      <td>False</td>\n",
              "      <td>snapdragon</td>\n",
              "      <td>8.0</td>\n",
              "      <td>3.20</td>\n",
              "      <td>...</td>\n",
              "      <td>120</td>\n",
              "      <td>3</td>\n",
              "      <td>1.0</td>\n",
              "      <td>android</td>\n",
              "      <td>50.0</td>\n",
              "      <td>16.0</td>\n",
              "      <td>0</td>\n",
              "      <td>NaN</td>\n",
              "      <td>1440</td>\n",
              "      <td>3216</td>\n",
              "    </tr>\n",
              "    <tr>\n",
              "      <th>1</th>\n",
              "      <td>oneplus</td>\n",
              "      <td>OnePlus Nord CE 2 Lite 5G</td>\n",
              "      <td>19989</td>\n",
              "      <td>81.0</td>\n",
              "      <td>True</td>\n",
              "      <td>False</td>\n",
              "      <td>False</td>\n",
              "      <td>snapdragon</td>\n",
              "      <td>8.0</td>\n",
              "      <td>2.20</td>\n",
              "      <td>...</td>\n",
              "      <td>120</td>\n",
              "      <td>3</td>\n",
              "      <td>1.0</td>\n",
              "      <td>android</td>\n",
              "      <td>64.0</td>\n",
              "      <td>16.0</td>\n",
              "      <td>1</td>\n",
              "      <td>1024.0</td>\n",
              "      <td>1080</td>\n",
              "      <td>2412</td>\n",
              "    </tr>\n",
              "    <tr>\n",
              "      <th>2</th>\n",
              "      <td>samsung</td>\n",
              "      <td>Samsung Galaxy A14 5G</td>\n",
              "      <td>16499</td>\n",
              "      <td>75.0</td>\n",
              "      <td>True</td>\n",
              "      <td>False</td>\n",
              "      <td>False</td>\n",
              "      <td>exynos</td>\n",
              "      <td>8.0</td>\n",
              "      <td>2.40</td>\n",
              "      <td>...</td>\n",
              "      <td>90</td>\n",
              "      <td>3</td>\n",
              "      <td>1.0</td>\n",
              "      <td>android</td>\n",
              "      <td>50.0</td>\n",
              "      <td>13.0</td>\n",
              "      <td>1</td>\n",
              "      <td>1024.0</td>\n",
              "      <td>1080</td>\n",
              "      <td>2408</td>\n",
              "    </tr>\n",
              "    <tr>\n",
              "      <th>3</th>\n",
              "      <td>motorola</td>\n",
              "      <td>Motorola Moto G62 5G</td>\n",
              "      <td>14999</td>\n",
              "      <td>81.0</td>\n",
              "      <td>True</td>\n",
              "      <td>False</td>\n",
              "      <td>False</td>\n",
              "      <td>snapdragon</td>\n",
              "      <td>8.0</td>\n",
              "      <td>2.20</td>\n",
              "      <td>...</td>\n",
              "      <td>120</td>\n",
              "      <td>3</td>\n",
              "      <td>1.0</td>\n",
              "      <td>android</td>\n",
              "      <td>50.0</td>\n",
              "      <td>16.0</td>\n",
              "      <td>1</td>\n",
              "      <td>1024.0</td>\n",
              "      <td>1080</td>\n",
              "      <td>2400</td>\n",
              "    </tr>\n",
              "    <tr>\n",
              "      <th>4</th>\n",
              "      <td>realme</td>\n",
              "      <td>Realme 10 Pro Plus</td>\n",
              "      <td>24999</td>\n",
              "      <td>82.0</td>\n",
              "      <td>True</td>\n",
              "      <td>False</td>\n",
              "      <td>False</td>\n",
              "      <td>dimensity</td>\n",
              "      <td>8.0</td>\n",
              "      <td>2.60</td>\n",
              "      <td>...</td>\n",
              "      <td>120</td>\n",
              "      <td>3</td>\n",
              "      <td>1.0</td>\n",
              "      <td>android</td>\n",
              "      <td>108.0</td>\n",
              "      <td>16.0</td>\n",
              "      <td>0</td>\n",
              "      <td>NaN</td>\n",
              "      <td>1080</td>\n",
              "      <td>2412</td>\n",
              "    </tr>\n",
              "    <tr>\n",
              "      <th>...</th>\n",
              "      <td>...</td>\n",
              "      <td>...</td>\n",
              "      <td>...</td>\n",
              "      <td>...</td>\n",
              "      <td>...</td>\n",
              "      <td>...</td>\n",
              "      <td>...</td>\n",
              "      <td>...</td>\n",
              "      <td>...</td>\n",
              "      <td>...</td>\n",
              "      <td>...</td>\n",
              "      <td>...</td>\n",
              "      <td>...</td>\n",
              "      <td>...</td>\n",
              "      <td>...</td>\n",
              "      <td>...</td>\n",
              "      <td>...</td>\n",
              "      <td>...</td>\n",
              "      <td>...</td>\n",
              "      <td>...</td>\n",
              "      <td>...</td>\n",
              "    </tr>\n",
              "    <tr>\n",
              "      <th>975</th>\n",
              "      <td>motorola</td>\n",
              "      <td>Motorola Moto Edge S30 Pro</td>\n",
              "      <td>34990</td>\n",
              "      <td>83.0</td>\n",
              "      <td>True</td>\n",
              "      <td>False</td>\n",
              "      <td>False</td>\n",
              "      <td>snapdragon</td>\n",
              "      <td>8.0</td>\n",
              "      <td>3.00</td>\n",
              "      <td>...</td>\n",
              "      <td>120</td>\n",
              "      <td>3</td>\n",
              "      <td>1.0</td>\n",
              "      <td>android</td>\n",
              "      <td>64.0</td>\n",
              "      <td>16.0</td>\n",
              "      <td>0</td>\n",
              "      <td>NaN</td>\n",
              "      <td>1080</td>\n",
              "      <td>2460</td>\n",
              "    </tr>\n",
              "    <tr>\n",
              "      <th>976</th>\n",
              "      <td>honor</td>\n",
              "      <td>Honor X8 5G</td>\n",
              "      <td>14990</td>\n",
              "      <td>75.0</td>\n",
              "      <td>True</td>\n",
              "      <td>False</td>\n",
              "      <td>False</td>\n",
              "      <td>snapdragon</td>\n",
              "      <td>8.0</td>\n",
              "      <td>2.20</td>\n",
              "      <td>...</td>\n",
              "      <td>60</td>\n",
              "      <td>3</td>\n",
              "      <td>1.0</td>\n",
              "      <td>android</td>\n",
              "      <td>48.0</td>\n",
              "      <td>8.0</td>\n",
              "      <td>1</td>\n",
              "      <td>1024.0</td>\n",
              "      <td>720</td>\n",
              "      <td>1600</td>\n",
              "    </tr>\n",
              "    <tr>\n",
              "      <th>977</th>\n",
              "      <td>poco</td>\n",
              "      <td>POCO X4 GT 5G (8GB RAM + 256GB)</td>\n",
              "      <td>28990</td>\n",
              "      <td>85.0</td>\n",
              "      <td>True</td>\n",
              "      <td>True</td>\n",
              "      <td>True</td>\n",
              "      <td>dimensity</td>\n",
              "      <td>8.0</td>\n",
              "      <td>2.85</td>\n",
              "      <td>...</td>\n",
              "      <td>144</td>\n",
              "      <td>3</td>\n",
              "      <td>1.0</td>\n",
              "      <td>android</td>\n",
              "      <td>64.0</td>\n",
              "      <td>16.0</td>\n",
              "      <td>0</td>\n",
              "      <td>NaN</td>\n",
              "      <td>1080</td>\n",
              "      <td>2460</td>\n",
              "    </tr>\n",
              "    <tr>\n",
              "      <th>978</th>\n",
              "      <td>motorola</td>\n",
              "      <td>Motorola Moto G91 5G</td>\n",
              "      <td>19990</td>\n",
              "      <td>80.0</td>\n",
              "      <td>True</td>\n",
              "      <td>True</td>\n",
              "      <td>False</td>\n",
              "      <td>snapdragon</td>\n",
              "      <td>8.0</td>\n",
              "      <td>2.20</td>\n",
              "      <td>...</td>\n",
              "      <td>60</td>\n",
              "      <td>3</td>\n",
              "      <td>1.0</td>\n",
              "      <td>android</td>\n",
              "      <td>108.0</td>\n",
              "      <td>32.0</td>\n",
              "      <td>1</td>\n",
              "      <td>1024.0</td>\n",
              "      <td>1080</td>\n",
              "      <td>2400</td>\n",
              "    </tr>\n",
              "    <tr>\n",
              "      <th>979</th>\n",
              "      <td>samsung</td>\n",
              "      <td>Samsung Galaxy M52s 5G</td>\n",
              "      <td>24990</td>\n",
              "      <td>74.0</td>\n",
              "      <td>True</td>\n",
              "      <td>False</td>\n",
              "      <td>False</td>\n",
              "      <td>NaN</td>\n",
              "      <td>8.0</td>\n",
              "      <td>NaN</td>\n",
              "      <td>...</td>\n",
              "      <td>60</td>\n",
              "      <td>3</td>\n",
              "      <td>1.0</td>\n",
              "      <td>android</td>\n",
              "      <td>64.0</td>\n",
              "      <td>32.0</td>\n",
              "      <td>1</td>\n",
              "      <td>1024.0</td>\n",
              "      <td>1080</td>\n",
              "      <td>2400</td>\n",
              "    </tr>\n",
              "  </tbody>\n",
              "</table>\n",
              "<p>980 rows × 26 columns</p>\n",
              "</div>\n",
              "    <div class=\"colab-df-buttons\">\n",
              "\n",
              "  <div class=\"colab-df-container\">\n",
              "    <button class=\"colab-df-convert\" onclick=\"convertToInteractive('df-7f404ab2-dc45-49c1-9f26-0258070fbdef')\"\n",
              "            title=\"Convert this dataframe to an interactive table.\"\n",
              "            style=\"display:none;\">\n",
              "\n",
              "  <svg xmlns=\"http://www.w3.org/2000/svg\" height=\"24px\" viewBox=\"0 -960 960 960\">\n",
              "    <path d=\"M120-120v-720h720v720H120Zm60-500h600v-160H180v160Zm220 220h160v-160H400v160Zm0 220h160v-160H400v160ZM180-400h160v-160H180v160Zm440 0h160v-160H620v160ZM180-180h160v-160H180v160Zm440 0h160v-160H620v160Z\"/>\n",
              "  </svg>\n",
              "    </button>\n",
              "\n",
              "  <style>\n",
              "    .colab-df-container {\n",
              "      display:flex;\n",
              "      gap: 12px;\n",
              "    }\n",
              "\n",
              "    .colab-df-convert {\n",
              "      background-color: #E8F0FE;\n",
              "      border: none;\n",
              "      border-radius: 50%;\n",
              "      cursor: pointer;\n",
              "      display: none;\n",
              "      fill: #1967D2;\n",
              "      height: 32px;\n",
              "      padding: 0 0 0 0;\n",
              "      width: 32px;\n",
              "    }\n",
              "\n",
              "    .colab-df-convert:hover {\n",
              "      background-color: #E2EBFA;\n",
              "      box-shadow: 0px 1px 2px rgba(60, 64, 67, 0.3), 0px 1px 3px 1px rgba(60, 64, 67, 0.15);\n",
              "      fill: #174EA6;\n",
              "    }\n",
              "\n",
              "    .colab-df-buttons div {\n",
              "      margin-bottom: 4px;\n",
              "    }\n",
              "\n",
              "    [theme=dark] .colab-df-convert {\n",
              "      background-color: #3B4455;\n",
              "      fill: #D2E3FC;\n",
              "    }\n",
              "\n",
              "    [theme=dark] .colab-df-convert:hover {\n",
              "      background-color: #434B5C;\n",
              "      box-shadow: 0px 1px 3px 1px rgba(0, 0, 0, 0.15);\n",
              "      filter: drop-shadow(0px 1px 2px rgba(0, 0, 0, 0.3));\n",
              "      fill: #FFFFFF;\n",
              "    }\n",
              "  </style>\n",
              "\n",
              "    <script>\n",
              "      const buttonEl =\n",
              "        document.querySelector('#df-7f404ab2-dc45-49c1-9f26-0258070fbdef button.colab-df-convert');\n",
              "      buttonEl.style.display =\n",
              "        google.colab.kernel.accessAllowed ? 'block' : 'none';\n",
              "\n",
              "      async function convertToInteractive(key) {\n",
              "        const element = document.querySelector('#df-7f404ab2-dc45-49c1-9f26-0258070fbdef');\n",
              "        const dataTable =\n",
              "          await google.colab.kernel.invokeFunction('convertToInteractive',\n",
              "                                                    [key], {});\n",
              "        if (!dataTable) return;\n",
              "\n",
              "        const docLinkHtml = 'Like what you see? Visit the ' +\n",
              "          '<a target=\"_blank\" href=https://colab.research.google.com/notebooks/data_table.ipynb>data table notebook</a>'\n",
              "          + ' to learn more about interactive tables.';\n",
              "        element.innerHTML = '';\n",
              "        dataTable['output_type'] = 'display_data';\n",
              "        await google.colab.output.renderOutput(dataTable, element);\n",
              "        const docLink = document.createElement('div');\n",
              "        docLink.innerHTML = docLinkHtml;\n",
              "        element.appendChild(docLink);\n",
              "      }\n",
              "    </script>\n",
              "  </div>\n",
              "\n",
              "\n",
              "    <div id=\"df-afaf0292-41aa-4e5f-884f-cfe8728f7aec\">\n",
              "      <button class=\"colab-df-quickchart\" onclick=\"quickchart('df-afaf0292-41aa-4e5f-884f-cfe8728f7aec')\"\n",
              "                title=\"Suggest charts\"\n",
              "                style=\"display:none;\">\n",
              "\n",
              "<svg xmlns=\"http://www.w3.org/2000/svg\" height=\"24px\"viewBox=\"0 0 24 24\"\n",
              "     width=\"24px\">\n",
              "    <g>\n",
              "        <path d=\"M19 3H5c-1.1 0-2 .9-2 2v14c0 1.1.9 2 2 2h14c1.1 0 2-.9 2-2V5c0-1.1-.9-2-2-2zM9 17H7v-7h2v7zm4 0h-2V7h2v10zm4 0h-2v-4h2v4z\"/>\n",
              "    </g>\n",
              "</svg>\n",
              "      </button>\n",
              "\n",
              "<style>\n",
              "  .colab-df-quickchart {\n",
              "      --bg-color: #E8F0FE;\n",
              "      --fill-color: #1967D2;\n",
              "      --hover-bg-color: #E2EBFA;\n",
              "      --hover-fill-color: #174EA6;\n",
              "      --disabled-fill-color: #AAA;\n",
              "      --disabled-bg-color: #DDD;\n",
              "  }\n",
              "\n",
              "  [theme=dark] .colab-df-quickchart {\n",
              "      --bg-color: #3B4455;\n",
              "      --fill-color: #D2E3FC;\n",
              "      --hover-bg-color: #434B5C;\n",
              "      --hover-fill-color: #FFFFFF;\n",
              "      --disabled-bg-color: #3B4455;\n",
              "      --disabled-fill-color: #666;\n",
              "  }\n",
              "\n",
              "  .colab-df-quickchart {\n",
              "    background-color: var(--bg-color);\n",
              "    border: none;\n",
              "    border-radius: 50%;\n",
              "    cursor: pointer;\n",
              "    display: none;\n",
              "    fill: var(--fill-color);\n",
              "    height: 32px;\n",
              "    padding: 0;\n",
              "    width: 32px;\n",
              "  }\n",
              "\n",
              "  .colab-df-quickchart:hover {\n",
              "    background-color: var(--hover-bg-color);\n",
              "    box-shadow: 0 1px 2px rgba(60, 64, 67, 0.3), 0 1px 3px 1px rgba(60, 64, 67, 0.15);\n",
              "    fill: var(--button-hover-fill-color);\n",
              "  }\n",
              "\n",
              "  .colab-df-quickchart-complete:disabled,\n",
              "  .colab-df-quickchart-complete:disabled:hover {\n",
              "    background-color: var(--disabled-bg-color);\n",
              "    fill: var(--disabled-fill-color);\n",
              "    box-shadow: none;\n",
              "  }\n",
              "\n",
              "  .colab-df-spinner {\n",
              "    border: 2px solid var(--fill-color);\n",
              "    border-color: transparent;\n",
              "    border-bottom-color: var(--fill-color);\n",
              "    animation:\n",
              "      spin 1s steps(1) infinite;\n",
              "  }\n",
              "\n",
              "  @keyframes spin {\n",
              "    0% {\n",
              "      border-color: transparent;\n",
              "      border-bottom-color: var(--fill-color);\n",
              "      border-left-color: var(--fill-color);\n",
              "    }\n",
              "    20% {\n",
              "      border-color: transparent;\n",
              "      border-left-color: var(--fill-color);\n",
              "      border-top-color: var(--fill-color);\n",
              "    }\n",
              "    30% {\n",
              "      border-color: transparent;\n",
              "      border-left-color: var(--fill-color);\n",
              "      border-top-color: var(--fill-color);\n",
              "      border-right-color: var(--fill-color);\n",
              "    }\n",
              "    40% {\n",
              "      border-color: transparent;\n",
              "      border-right-color: var(--fill-color);\n",
              "      border-top-color: var(--fill-color);\n",
              "    }\n",
              "    60% {\n",
              "      border-color: transparent;\n",
              "      border-right-color: var(--fill-color);\n",
              "    }\n",
              "    80% {\n",
              "      border-color: transparent;\n",
              "      border-right-color: var(--fill-color);\n",
              "      border-bottom-color: var(--fill-color);\n",
              "    }\n",
              "    90% {\n",
              "      border-color: transparent;\n",
              "      border-bottom-color: var(--fill-color);\n",
              "    }\n",
              "  }\n",
              "</style>\n",
              "\n",
              "      <script>\n",
              "        async function quickchart(key) {\n",
              "          const quickchartButtonEl =\n",
              "            document.querySelector('#' + key + ' button');\n",
              "          quickchartButtonEl.disabled = true;  // To prevent multiple clicks.\n",
              "          quickchartButtonEl.classList.add('colab-df-spinner');\n",
              "          try {\n",
              "            const charts = await google.colab.kernel.invokeFunction(\n",
              "                'suggestCharts', [key], {});\n",
              "          } catch (error) {\n",
              "            console.error('Error during call to suggestCharts:', error);\n",
              "          }\n",
              "          quickchartButtonEl.classList.remove('colab-df-spinner');\n",
              "          quickchartButtonEl.classList.add('colab-df-quickchart-complete');\n",
              "        }\n",
              "        (() => {\n",
              "          let quickchartButtonEl =\n",
              "            document.querySelector('#df-afaf0292-41aa-4e5f-884f-cfe8728f7aec button');\n",
              "          quickchartButtonEl.style.display =\n",
              "            google.colab.kernel.accessAllowed ? 'block' : 'none';\n",
              "        })();\n",
              "      </script>\n",
              "    </div>\n",
              "\n",
              "  <div id=\"id_8847150a-204f-4a98-b6c0-05f693b6c2ee\">\n",
              "    <style>\n",
              "      .colab-df-generate {\n",
              "        background-color: #E8F0FE;\n",
              "        border: none;\n",
              "        border-radius: 50%;\n",
              "        cursor: pointer;\n",
              "        display: none;\n",
              "        fill: #1967D2;\n",
              "        height: 32px;\n",
              "        padding: 0 0 0 0;\n",
              "        width: 32px;\n",
              "      }\n",
              "\n",
              "      .colab-df-generate:hover {\n",
              "        background-color: #E2EBFA;\n",
              "        box-shadow: 0px 1px 2px rgba(60, 64, 67, 0.3), 0px 1px 3px 1px rgba(60, 64, 67, 0.15);\n",
              "        fill: #174EA6;\n",
              "      }\n",
              "\n",
              "      [theme=dark] .colab-df-generate {\n",
              "        background-color: #3B4455;\n",
              "        fill: #D2E3FC;\n",
              "      }\n",
              "\n",
              "      [theme=dark] .colab-df-generate:hover {\n",
              "        background-color: #434B5C;\n",
              "        box-shadow: 0px 1px 3px 1px rgba(0, 0, 0, 0.15);\n",
              "        filter: drop-shadow(0px 1px 2px rgba(0, 0, 0, 0.3));\n",
              "        fill: #FFFFFF;\n",
              "      }\n",
              "    </style>\n",
              "    <button class=\"colab-df-generate\" onclick=\"generateWithVariable('df')\"\n",
              "            title=\"Generate code using this dataframe.\"\n",
              "            style=\"display:none;\">\n",
              "\n",
              "  <svg xmlns=\"http://www.w3.org/2000/svg\" height=\"24px\"viewBox=\"0 0 24 24\"\n",
              "       width=\"24px\">\n",
              "    <path d=\"M7,19H8.4L18.45,9,17,7.55,7,17.6ZM5,21V16.75L18.45,3.32a2,2,0,0,1,2.83,0l1.4,1.43a1.91,1.91,0,0,1,.58,1.4,1.91,1.91,0,0,1-.58,1.4L9.25,21ZM18.45,9,17,7.55Zm-12,3A5.31,5.31,0,0,0,4.9,8.1,5.31,5.31,0,0,0,1,6.5,5.31,5.31,0,0,0,4.9,4.9,5.31,5.31,0,0,0,6.5,1,5.31,5.31,0,0,0,8.1,4.9,5.31,5.31,0,0,0,12,6.5,5.46,5.46,0,0,0,6.5,12Z\"/>\n",
              "  </svg>\n",
              "    </button>\n",
              "    <script>\n",
              "      (() => {\n",
              "      const buttonEl =\n",
              "        document.querySelector('#id_8847150a-204f-4a98-b6c0-05f693b6c2ee button.colab-df-generate');\n",
              "      buttonEl.style.display =\n",
              "        google.colab.kernel.accessAllowed ? 'block' : 'none';\n",
              "\n",
              "      buttonEl.onclick = () => {\n",
              "        google.colab.notebook.generateWithVariable('df');\n",
              "      }\n",
              "      })();\n",
              "    </script>\n",
              "  </div>\n",
              "\n",
              "    </div>\n",
              "  </div>\n"
            ],
            "application/vnd.google.colaboratory.intrinsic+json": {
              "type": "dataframe",
              "variable_name": "df"
            }
          },
          "metadata": {},
          "execution_count": 26
        },
        {
          "output_type": "stream",
          "name": "stdout",
          "text": [
            "Warning: Total number of columns (26) exceeds max_columns (20) limiting to first (20) columns.\n"
          ]
        }
      ]
    },
    {
      "cell_type": "markdown",
      "source": [
        "#### 1. How many unique smarphone brands are present?"
      ],
      "metadata": {
        "id": "MVf7Y1j8SAYG"
      }
    },
    {
      "cell_type": "code",
      "source": [
        "n = df[\"brand_name\"].nunique()\n",
        "print(f\"their are {n} unique phone brands\")"
      ],
      "metadata": {
        "colab": {
          "base_uri": "https://localhost:8080/"
        },
        "id": "NrnVkWfLEPv-",
        "outputId": "83e67f42-22a4-4dde-a449-a9f0e32bad56"
      },
      "execution_count": 8,
      "outputs": [
        {
          "output_type": "stream",
          "name": "stdout",
          "text": [
            "their are 46 unique phone brands\n"
          ]
        }
      ]
    },
    {
      "cell_type": "markdown",
      "source": [
        "#### 2 .what is the average price of smartphones?"
      ],
      "metadata": {
        "id": "93dKm--uSDXp"
      }
    },
    {
      "cell_type": "code",
      "source": [
        "p = df[\"price\"].mean()\n",
        "print(f\"the average price of a phone is {p}\")"
      ],
      "metadata": {
        "colab": {
          "base_uri": "https://localhost:8080/"
        },
        "id": "uxwqrxopE3ex",
        "outputId": "6c91d541-9722-4894-9201-df4d737a0019"
      },
      "execution_count": 9,
      "outputs": [
        {
          "output_type": "stream",
          "name": "stdout",
          "text": [
            "the average price of a phone is 32520.504081632655\n"
          ]
        }
      ]
    },
    {
      "cell_type": "markdown",
      "source": [
        "####3 .Which smartphone has the highest price?"
      ],
      "metadata": {
        "id": "d-GOuWEeSJ30"
      }
    },
    {
      "cell_type": "code",
      "source": [
        "# m = df[\"price\"].max()\n",
        "# print(f\"the most expensive phone is {m}\")\n",
        "\n",
        "df[df['price'] == df['price'].max()]['brand_name'][427]"
      ],
      "metadata": {
        "colab": {
          "base_uri": "https://localhost:8080/",
          "height": 36
        },
        "id": "Q_nImlx2Fqnw",
        "outputId": "cf8b2fbf-06e3-4968-fdee-7b38585464f2"
      },
      "execution_count": 44,
      "outputs": [
        {
          "output_type": "execute_result",
          "data": {
            "text/plain": [
              "'vertu'"
            ],
            "application/vnd.google.colaboratory.intrinsic+json": {
              "type": "string"
            }
          },
          "metadata": {},
          "execution_count": 44
        }
      ]
    },
    {
      "cell_type": "markdown",
      "source": [
        "#### 4 . what is the most common processor brand?"
      ],
      "metadata": {
        "id": "iUbTdOgzSTOR"
      }
    },
    {
      "cell_type": "code",
      "source": [
        "pross = df['processor_brand'].mode()\n",
        "print(f\"the most common processor brand is {pross}\")"
      ],
      "metadata": {
        "colab": {
          "base_uri": "https://localhost:8080/"
        },
        "id": "1XIsMCLsSSvu",
        "outputId": "264a3517-1510-4e18-875f-66a9a414bf8c"
      },
      "execution_count": 57,
      "outputs": [
        {
          "output_type": "stream",
          "name": "stdout",
          "text": [
            "the most common processor brand is 0    snapdragon\n",
            "Name: processor_brand, dtype: object\n"
          ]
        }
      ]
    },
    {
      "cell_type": "markdown",
      "source": [
        "#### 5 what is the average rating of smartphones?"
      ],
      "metadata": {
        "id": "ttVUOvXTSueo"
      }
    },
    {
      "cell_type": "code",
      "source": [
        "a = df['rating'].mean()\n",
        "print(f\"the average rating of a phone is {a}\")"
      ],
      "metadata": {
        "colab": {
          "base_uri": "https://localhost:8080/"
        },
        "id": "XlRJobyPF2d2",
        "outputId": "2254a05e-92b1-44a4-b893-b7918594fe1c"
      },
      "execution_count": 12,
      "outputs": [
        {
          "output_type": "stream",
          "name": "stdout",
          "text": [
            "the average rating of a phone is 78.25824800910125\n"
          ]
        }
      ]
    },
    {
      "cell_type": "markdown",
      "source": [
        "#### 6 which brand has the most models listed?"
      ],
      "metadata": {
        "id": "UrZfkGmeS134"
      }
    },
    {
      "cell_type": "code",
      "source": [
        "brand_counts = df[\"brand_name\"].value_counts()\n",
        "most_listed_brand = brand_counts.index[0]\n",
        "print(f\"The brand with the most phones listed is: {most_listed_brand}\")"
      ],
      "metadata": {
        "colab": {
          "base_uri": "https://localhost:8080/"
        },
        "id": "Ls0VoBwDGET4",
        "outputId": "3f397312-c2e7-4331-9309-b9a49383313a"
      },
      "execution_count": 15,
      "outputs": [
        {
          "output_type": "stream",
          "name": "stdout",
          "text": [
            "The brand with the most phones listed is: xiaomi\n"
          ]
        }
      ]
    },
    {
      "cell_type": "markdown",
      "source": [
        "#### 7 Count of smarphones supporting 5G ?"
      ],
      "metadata": {
        "id": "vlnBKMA7S8vq"
      }
    },
    {
      "cell_type": "code",
      "source": [
        "g5 = df['has_5g'].sum()\n",
        "print(f\"The number of smartphones that support 5G is: {g5}\")"
      ],
      "metadata": {
        "colab": {
          "base_uri": "https://localhost:8080/"
        },
        "id": "6ns7uowjGkAF",
        "outputId": "5e83ec95-56aa-43b3-c4cb-7f28f6bbcdfc"
      },
      "execution_count": 58,
      "outputs": [
        {
          "output_type": "stream",
          "name": "stdout",
          "text": [
            "The number of smartphones that support 5G is: 549\n"
          ]
        }
      ]
    },
    {
      "cell_type": "markdown",
      "source": [
        "#### 8 Average RAM across all the smartphones?"
      ],
      "metadata": {
        "id": "zdCBcqJITfst"
      }
    },
    {
      "cell_type": "code",
      "source": [
        "avg = df['ram_capacity'].mean()\n",
        "print(f\"The average RAM across all smartphones is: {round(avg)}\")\n"
      ],
      "metadata": {
        "colab": {
          "base_uri": "https://localhost:8080/"
        },
        "id": "I18HM4DgHbHK",
        "outputId": "ba2ce652-91b6-4b58-c3de-d535ff0098df"
      },
      "execution_count": 59,
      "outputs": [
        {
          "output_type": "stream",
          "name": "stdout",
          "text": [
            "The average RAM across all smartphones is: 7\n"
          ]
        }
      ]
    },
    {
      "cell_type": "markdown",
      "source": [
        "####9 Which phone has the largest battery?"
      ],
      "metadata": {
        "id": "za_BpTYITii_"
      }
    },
    {
      "cell_type": "code",
      "source": [
        "lb= df[df['battery_capacity'] == df['battery_capacity'].max()]['brand_name'][843]\n",
        "print(f\"The largest battery capacity is: {lb}\")"
      ],
      "metadata": {
        "colab": {
          "base_uri": "https://localhost:8080/"
        },
        "id": "ewfcEJyvJBzb",
        "outputId": "82b8973b-779a-444b-c6b5-0198310f0db5"
      },
      "execution_count": 54,
      "outputs": [
        {
          "output_type": "stream",
          "name": "stdout",
          "text": [
            "The largest battery capacity is: doogee\n"
          ]
        }
      ]
    },
    {
      "cell_type": "markdown",
      "source": [
        "### 10 Most commmon screen refresh rate?"
      ],
      "metadata": {
        "id": "Pls181HKJjG8"
      }
    },
    {
      "cell_type": "code",
      "source": [
        "sr = df['refresh_rate'].mode()\n",
        "print(f\"The most common screen refresh rate is: {sr}\")"
      ],
      "metadata": {
        "colab": {
          "base_uri": "https://localhost:8080/"
        },
        "id": "3yiEdhzRJRg1",
        "outputId": "ca7b0dc2-f981-46f7-857f-b6ef07b6820c"
      },
      "execution_count": 30,
      "outputs": [
        {
          "output_type": "stream",
          "name": "stdout",
          "text": [
            "The most common screen refresh rate is: 0    60\n",
            "Name: refresh_rate, dtype: int64\n"
          ]
        }
      ]
    },
    {
      "cell_type": "markdown",
      "source": [
        "#### 11 what's the average number pf rear cameras?"
      ],
      "metadata": {
        "id": "M6KNhEqUJ5eI"
      }
    },
    {
      "cell_type": "code",
      "source": [
        "camera_avg = df['num_rear_cameras'].mean()\n",
        "print(f\"The average number of rear cameras is: {round(camera_avg)}\")"
      ],
      "metadata": {
        "colab": {
          "base_uri": "https://localhost:8080/"
        },
        "id": "ALTPXYyDJxrJ",
        "outputId": "32bdeadd-7d8c-45f9-b687-0b2e2e9016d8"
      },
      "execution_count": 60,
      "outputs": [
        {
          "output_type": "stream",
          "name": "stdout",
          "text": [
            "The average number of rear cameras is: 3\n"
          ]
        }
      ]
    },
    {
      "cell_type": "markdown",
      "source": [
        "#### 12 How many smarphones suppost fast charging?"
      ],
      "metadata": {
        "id": "ptejP1SVKepu"
      }
    },
    {
      "cell_type": "code",
      "source": [
        "fastch = df['fast_charging_available'].sum()\n",
        "print(f\"The number of smartphones that support fast charging is: {fastch}\")\n"
      ],
      "metadata": {
        "colab": {
          "base_uri": "https://localhost:8080/"
        },
        "id": "C19FD3CUKCS5",
        "outputId": "02ba7209-cc28-4034-db87-b272f7345e6c"
      },
      "execution_count": 61,
      "outputs": [
        {
          "output_type": "stream",
          "name": "stdout",
          "text": [
            "The number of smartphones that support fast charging is: 837\n"
          ]
        }
      ]
    },
    {
      "cell_type": "markdown",
      "source": [
        "#### 13 What is teh average processor speed?\n"
      ],
      "metadata": {
        "id": "alf6E_4EK-47"
      }
    },
    {
      "cell_type": "code",
      "source": [
        "pros_speed = df['processor_speed'].mean()\n",
        "print(f\"The average processor speed is: {pros_speed}\")"
      ],
      "metadata": {
        "colab": {
          "base_uri": "https://localhost:8080/"
        },
        "id": "KhVlKKDnKq6I",
        "outputId": "89f773b4-87f0-4f02-9396-49f572e7f232"
      },
      "execution_count": 35,
      "outputs": [
        {
          "output_type": "stream",
          "name": "stdout",
          "text": [
            "The average processor speed is: 2.427217484008529\n"
          ]
        }
      ]
    },
    {
      "cell_type": "markdown",
      "source": [
        "#### 14 Which OS is used by most smartphones?"
      ],
      "metadata": {
        "id": "mDEKnyAmLgND"
      }
    },
    {
      "cell_type": "code",
      "source": [
        "o_s = df['os'].mode()\n",
        "print(f\"The most common operating system is: {o_s}\")"
      ],
      "metadata": {
        "colab": {
          "base_uri": "https://localhost:8080/"
        },
        "id": "IAJo6Z6eLZ6F",
        "outputId": "2f79ab0a-d1c4-4b43-d39d-e0ef7068a620"
      },
      "execution_count": 38,
      "outputs": [
        {
          "output_type": "stream",
          "name": "stdout",
          "text": [
            "The most common operating system is: 0    android\n",
            "Name: os, dtype: object\n"
          ]
        }
      ]
    },
    {
      "cell_type": "markdown",
      "source": [
        "#### 15 How namy smartphones have an IR blaster?"
      ],
      "metadata": {
        "id": "RJhcdvX4MBm-"
      }
    },
    {
      "cell_type": "code",
      "source": [
        "i_r = df['has_ir_blaster'].sum()\n",
        "print(f\"The number of smartphones with an IR blaster is: {i_r}\")"
      ],
      "metadata": {
        "colab": {
          "base_uri": "https://localhost:8080/"
        },
        "id": "ziLBs5SXLtQa",
        "outputId": "5ed3f37a-7d7b-4cd1-be15-2b8d49a160fb"
      },
      "execution_count": 62,
      "outputs": [
        {
          "output_type": "stream",
          "name": "stdout",
          "text": [
            "The number of smartphones with an IR blaster is: 159\n"
          ]
        }
      ]
    },
    {
      "cell_type": "markdown",
      "source": [
        "#### 16 What is the correlation between RAM and price?"
      ],
      "metadata": {
        "id": "jnMbtPPFMjgB"
      }
    },
    {
      "cell_type": "code",
      "source": [
        "corr_R = df['ram_capacity'].corr(df['price'])\n",
        "print(f\"The correlation between RAM and price is: {corr_R}\")"
      ],
      "metadata": {
        "colab": {
          "base_uri": "https://localhost:8080/"
        },
        "id": "PuSz3DEpMHbJ",
        "outputId": "3bc138db-8846-4f6c-d668-28be3e4f615f"
      },
      "execution_count": 41,
      "outputs": [
        {
          "output_type": "stream",
          "name": "stdout",
          "text": [
            "The correlation between RAM and price is: 0.3860016700183043\n"
          ]
        }
      ]
    },
    {
      "cell_type": "markdown",
      "source": [
        "#### 17 Top 5 most expensive phones (brand + model) ?"
      ],
      "metadata": {
        "id": "8ODgb6hsMzde"
      }
    },
    {
      "cell_type": "code",
      "source": [
        "# brand_model = df.nlargest(5, 'price')[['brand_name', 'model']]\n",
        "# print(\"The top 5 most expensive phones are:\")\n",
        "# print(brand_model)\n",
        "\n",
        "df[['brand_name', 'model', 'price']].sort_values(by='price', ascending=False).head(5)"
      ],
      "metadata": {
        "colab": {
          "base_uri": "https://localhost:8080/",
          "height": 206
        },
        "id": "NLsxxJKGMzFR",
        "outputId": "46b3f67a-8432-4f01-dbf3-6c7bd96428e5"
      },
      "execution_count": 64,
      "outputs": [
        {
          "output_type": "execute_result",
          "data": {
            "text/plain": [
              "    brand_name                                   model   price\n",
              "427      vertu                   Vertu Signature Touch  650000\n",
              "887     xiaomi  Xiaomi Redmi K20 Pro Signature Edition  480000\n",
              "478     huawei        Huawei Mate 50 RS Porsche Design  239999\n",
              "951     huawei        Huawei Mate 30 RS Porsche Design  214990\n",
              "458     xiaomi                     Xiaomi Mi Mix Alpha  199990"
            ],
            "text/html": [
              "\n",
              "  <div id=\"df-81686758-bc52-4cce-a8f6-a88e08b20639\" class=\"colab-df-container\">\n",
              "    <div>\n",
              "<style scoped>\n",
              "    .dataframe tbody tr th:only-of-type {\n",
              "        vertical-align: middle;\n",
              "    }\n",
              "\n",
              "    .dataframe tbody tr th {\n",
              "        vertical-align: top;\n",
              "    }\n",
              "\n",
              "    .dataframe thead th {\n",
              "        text-align: right;\n",
              "    }\n",
              "</style>\n",
              "<table border=\"1\" class=\"dataframe\">\n",
              "  <thead>\n",
              "    <tr style=\"text-align: right;\">\n",
              "      <th></th>\n",
              "      <th>brand_name</th>\n",
              "      <th>model</th>\n",
              "      <th>price</th>\n",
              "    </tr>\n",
              "  </thead>\n",
              "  <tbody>\n",
              "    <tr>\n",
              "      <th>427</th>\n",
              "      <td>vertu</td>\n",
              "      <td>Vertu Signature Touch</td>\n",
              "      <td>650000</td>\n",
              "    </tr>\n",
              "    <tr>\n",
              "      <th>887</th>\n",
              "      <td>xiaomi</td>\n",
              "      <td>Xiaomi Redmi K20 Pro Signature Edition</td>\n",
              "      <td>480000</td>\n",
              "    </tr>\n",
              "    <tr>\n",
              "      <th>478</th>\n",
              "      <td>huawei</td>\n",
              "      <td>Huawei Mate 50 RS Porsche Design</td>\n",
              "      <td>239999</td>\n",
              "    </tr>\n",
              "    <tr>\n",
              "      <th>951</th>\n",
              "      <td>huawei</td>\n",
              "      <td>Huawei Mate 30 RS Porsche Design</td>\n",
              "      <td>214990</td>\n",
              "    </tr>\n",
              "    <tr>\n",
              "      <th>458</th>\n",
              "      <td>xiaomi</td>\n",
              "      <td>Xiaomi Mi Mix Alpha</td>\n",
              "      <td>199990</td>\n",
              "    </tr>\n",
              "  </tbody>\n",
              "</table>\n",
              "</div>\n",
              "    <div class=\"colab-df-buttons\">\n",
              "\n",
              "  <div class=\"colab-df-container\">\n",
              "    <button class=\"colab-df-convert\" onclick=\"convertToInteractive('df-81686758-bc52-4cce-a8f6-a88e08b20639')\"\n",
              "            title=\"Convert this dataframe to an interactive table.\"\n",
              "            style=\"display:none;\">\n",
              "\n",
              "  <svg xmlns=\"http://www.w3.org/2000/svg\" height=\"24px\" viewBox=\"0 -960 960 960\">\n",
              "    <path d=\"M120-120v-720h720v720H120Zm60-500h600v-160H180v160Zm220 220h160v-160H400v160Zm0 220h160v-160H400v160ZM180-400h160v-160H180v160Zm440 0h160v-160H620v160ZM180-180h160v-160H180v160Zm440 0h160v-160H620v160Z\"/>\n",
              "  </svg>\n",
              "    </button>\n",
              "\n",
              "  <style>\n",
              "    .colab-df-container {\n",
              "      display:flex;\n",
              "      gap: 12px;\n",
              "    }\n",
              "\n",
              "    .colab-df-convert {\n",
              "      background-color: #E8F0FE;\n",
              "      border: none;\n",
              "      border-radius: 50%;\n",
              "      cursor: pointer;\n",
              "      display: none;\n",
              "      fill: #1967D2;\n",
              "      height: 32px;\n",
              "      padding: 0 0 0 0;\n",
              "      width: 32px;\n",
              "    }\n",
              "\n",
              "    .colab-df-convert:hover {\n",
              "      background-color: #E2EBFA;\n",
              "      box-shadow: 0px 1px 2px rgba(60, 64, 67, 0.3), 0px 1px 3px 1px rgba(60, 64, 67, 0.15);\n",
              "      fill: #174EA6;\n",
              "    }\n",
              "\n",
              "    .colab-df-buttons div {\n",
              "      margin-bottom: 4px;\n",
              "    }\n",
              "\n",
              "    [theme=dark] .colab-df-convert {\n",
              "      background-color: #3B4455;\n",
              "      fill: #D2E3FC;\n",
              "    }\n",
              "\n",
              "    [theme=dark] .colab-df-convert:hover {\n",
              "      background-color: #434B5C;\n",
              "      box-shadow: 0px 1px 3px 1px rgba(0, 0, 0, 0.15);\n",
              "      filter: drop-shadow(0px 1px 2px rgba(0, 0, 0, 0.3));\n",
              "      fill: #FFFFFF;\n",
              "    }\n",
              "  </style>\n",
              "\n",
              "    <script>\n",
              "      const buttonEl =\n",
              "        document.querySelector('#df-81686758-bc52-4cce-a8f6-a88e08b20639 button.colab-df-convert');\n",
              "      buttonEl.style.display =\n",
              "        google.colab.kernel.accessAllowed ? 'block' : 'none';\n",
              "\n",
              "      async function convertToInteractive(key) {\n",
              "        const element = document.querySelector('#df-81686758-bc52-4cce-a8f6-a88e08b20639');\n",
              "        const dataTable =\n",
              "          await google.colab.kernel.invokeFunction('convertToInteractive',\n",
              "                                                    [key], {});\n",
              "        if (!dataTable) return;\n",
              "\n",
              "        const docLinkHtml = 'Like what you see? Visit the ' +\n",
              "          '<a target=\"_blank\" href=https://colab.research.google.com/notebooks/data_table.ipynb>data table notebook</a>'\n",
              "          + ' to learn more about interactive tables.';\n",
              "        element.innerHTML = '';\n",
              "        dataTable['output_type'] = 'display_data';\n",
              "        await google.colab.output.renderOutput(dataTable, element);\n",
              "        const docLink = document.createElement('div');\n",
              "        docLink.innerHTML = docLinkHtml;\n",
              "        element.appendChild(docLink);\n",
              "      }\n",
              "    </script>\n",
              "  </div>\n",
              "\n",
              "\n",
              "    <div id=\"df-35f5e46c-1c73-4998-986d-9c66a4aaeb1a\">\n",
              "      <button class=\"colab-df-quickchart\" onclick=\"quickchart('df-35f5e46c-1c73-4998-986d-9c66a4aaeb1a')\"\n",
              "                title=\"Suggest charts\"\n",
              "                style=\"display:none;\">\n",
              "\n",
              "<svg xmlns=\"http://www.w3.org/2000/svg\" height=\"24px\"viewBox=\"0 0 24 24\"\n",
              "     width=\"24px\">\n",
              "    <g>\n",
              "        <path d=\"M19 3H5c-1.1 0-2 .9-2 2v14c0 1.1.9 2 2 2h14c1.1 0 2-.9 2-2V5c0-1.1-.9-2-2-2zM9 17H7v-7h2v7zm4 0h-2V7h2v10zm4 0h-2v-4h2v4z\"/>\n",
              "    </g>\n",
              "</svg>\n",
              "      </button>\n",
              "\n",
              "<style>\n",
              "  .colab-df-quickchart {\n",
              "      --bg-color: #E8F0FE;\n",
              "      --fill-color: #1967D2;\n",
              "      --hover-bg-color: #E2EBFA;\n",
              "      --hover-fill-color: #174EA6;\n",
              "      --disabled-fill-color: #AAA;\n",
              "      --disabled-bg-color: #DDD;\n",
              "  }\n",
              "\n",
              "  [theme=dark] .colab-df-quickchart {\n",
              "      --bg-color: #3B4455;\n",
              "      --fill-color: #D2E3FC;\n",
              "      --hover-bg-color: #434B5C;\n",
              "      --hover-fill-color: #FFFFFF;\n",
              "      --disabled-bg-color: #3B4455;\n",
              "      --disabled-fill-color: #666;\n",
              "  }\n",
              "\n",
              "  .colab-df-quickchart {\n",
              "    background-color: var(--bg-color);\n",
              "    border: none;\n",
              "    border-radius: 50%;\n",
              "    cursor: pointer;\n",
              "    display: none;\n",
              "    fill: var(--fill-color);\n",
              "    height: 32px;\n",
              "    padding: 0;\n",
              "    width: 32px;\n",
              "  }\n",
              "\n",
              "  .colab-df-quickchart:hover {\n",
              "    background-color: var(--hover-bg-color);\n",
              "    box-shadow: 0 1px 2px rgba(60, 64, 67, 0.3), 0 1px 3px 1px rgba(60, 64, 67, 0.15);\n",
              "    fill: var(--button-hover-fill-color);\n",
              "  }\n",
              "\n",
              "  .colab-df-quickchart-complete:disabled,\n",
              "  .colab-df-quickchart-complete:disabled:hover {\n",
              "    background-color: var(--disabled-bg-color);\n",
              "    fill: var(--disabled-fill-color);\n",
              "    box-shadow: none;\n",
              "  }\n",
              "\n",
              "  .colab-df-spinner {\n",
              "    border: 2px solid var(--fill-color);\n",
              "    border-color: transparent;\n",
              "    border-bottom-color: var(--fill-color);\n",
              "    animation:\n",
              "      spin 1s steps(1) infinite;\n",
              "  }\n",
              "\n",
              "  @keyframes spin {\n",
              "    0% {\n",
              "      border-color: transparent;\n",
              "      border-bottom-color: var(--fill-color);\n",
              "      border-left-color: var(--fill-color);\n",
              "    }\n",
              "    20% {\n",
              "      border-color: transparent;\n",
              "      border-left-color: var(--fill-color);\n",
              "      border-top-color: var(--fill-color);\n",
              "    }\n",
              "    30% {\n",
              "      border-color: transparent;\n",
              "      border-left-color: var(--fill-color);\n",
              "      border-top-color: var(--fill-color);\n",
              "      border-right-color: var(--fill-color);\n",
              "    }\n",
              "    40% {\n",
              "      border-color: transparent;\n",
              "      border-right-color: var(--fill-color);\n",
              "      border-top-color: var(--fill-color);\n",
              "    }\n",
              "    60% {\n",
              "      border-color: transparent;\n",
              "      border-right-color: var(--fill-color);\n",
              "    }\n",
              "    80% {\n",
              "      border-color: transparent;\n",
              "      border-right-color: var(--fill-color);\n",
              "      border-bottom-color: var(--fill-color);\n",
              "    }\n",
              "    90% {\n",
              "      border-color: transparent;\n",
              "      border-bottom-color: var(--fill-color);\n",
              "    }\n",
              "  }\n",
              "</style>\n",
              "\n",
              "      <script>\n",
              "        async function quickchart(key) {\n",
              "          const quickchartButtonEl =\n",
              "            document.querySelector('#' + key + ' button');\n",
              "          quickchartButtonEl.disabled = true;  // To prevent multiple clicks.\n",
              "          quickchartButtonEl.classList.add('colab-df-spinner');\n",
              "          try {\n",
              "            const charts = await google.colab.kernel.invokeFunction(\n",
              "                'suggestCharts', [key], {});\n",
              "          } catch (error) {\n",
              "            console.error('Error during call to suggestCharts:', error);\n",
              "          }\n",
              "          quickchartButtonEl.classList.remove('colab-df-spinner');\n",
              "          quickchartButtonEl.classList.add('colab-df-quickchart-complete');\n",
              "        }\n",
              "        (() => {\n",
              "          let quickchartButtonEl =\n",
              "            document.querySelector('#df-35f5e46c-1c73-4998-986d-9c66a4aaeb1a button');\n",
              "          quickchartButtonEl.style.display =\n",
              "            google.colab.kernel.accessAllowed ? 'block' : 'none';\n",
              "        })();\n",
              "      </script>\n",
              "    </div>\n",
              "\n",
              "    </div>\n",
              "  </div>\n"
            ],
            "application/vnd.google.colaboratory.intrinsic+json": {
              "type": "dataframe",
              "summary": "{\n  \"name\": \"df[['brand_name', 'model', 'price']]\",\n  \"rows\": 5,\n  \"fields\": [\n    {\n      \"column\": \"brand_name\",\n      \"properties\": {\n        \"dtype\": \"string\",\n        \"num_unique_values\": 3,\n        \"samples\": [\n          \"vertu\",\n          \"xiaomi\",\n          \"huawei\"\n        ],\n        \"semantic_type\": \"\",\n        \"description\": \"\"\n      }\n    },\n    {\n      \"column\": \"model\",\n      \"properties\": {\n        \"dtype\": \"string\",\n        \"num_unique_values\": 5,\n        \"samples\": [\n          \"Xiaomi Redmi K20 Pro Signature Edition\",\n          \"Xiaomi Mi Mix Alpha\",\n          \"Huawei Mate 50 RS Porsche Design\"\n        ],\n        \"semantic_type\": \"\",\n        \"description\": \"\"\n      }\n    },\n    {\n      \"column\": \"price\",\n      \"properties\": {\n        \"dtype\": \"number\",\n        \"std\": 199678,\n        \"min\": 199990,\n        \"max\": 650000,\n        \"num_unique_values\": 5,\n        \"samples\": [\n          480000,\n          199990,\n          239999\n        ],\n        \"semantic_type\": \"\",\n        \"description\": \"\"\n      }\n    }\n  ]\n}"
            }
          },
          "metadata": {},
          "execution_count": 64
        }
      ]
    },
    {
      "cell_type": "markdown",
      "source": [
        "#### 18 Average front camera megapixels?"
      ],
      "metadata": {
        "id": "I3sLBWgzOrM4"
      }
    },
    {
      "cell_type": "code",
      "source": [
        "front_cam = df['primary_camera_front'].mean()\n",
        "print(f\"The average front camera megapixels is: {round(front_cam)}\")"
      ],
      "metadata": {
        "colab": {
          "base_uri": "https://localhost:8080/"
        },
        "id": "VUUmRG26MtIc",
        "outputId": "986382a3-0b6e-450b-9048-cd1fb4e8341b"
      },
      "execution_count": 67,
      "outputs": [
        {
          "output_type": "stream",
          "name": "stdout",
          "text": [
            "The average front camera megapixels is: 17\n"
          ]
        }
      ]
    },
    {
      "cell_type": "markdown",
      "source": [
        "#### 19 Do all smartphones support extended memory?"
      ],
      "metadata": {
        "id": "VdScgL0LPuAn"
      }
    },
    {
      "cell_type": "code",
      "source": [
        "support_ext_memo = df['extended_memory_available'].value_counts().get('Yes', \"No\")\n",
        "print(f\"The number of smartphones that support extended memory is: {support_ext_memo}\")\n"
      ],
      "metadata": {
        "colab": {
          "base_uri": "https://localhost:8080/"
        },
        "id": "hdaBRyJDO24r",
        "outputId": "3bc79c6b-f5d6-4fe5-e043-01ba131851b2"
      },
      "execution_count": 71,
      "outputs": [
        {
          "output_type": "stream",
          "name": "stdout",
          "text": [
            "The number of smartphones that support extended memory is: No\n"
          ]
        }
      ]
    },
    {
      "cell_type": "markdown",
      "source": [
        "#### 20 Distribution of phones by resolution width?"
      ],
      "metadata": {
        "id": "bWHcIim9Q1kn"
      }
    },
    {
      "cell_type": "code",
      "source": [
        "resouluion = df['resolution_width'].value_counts().head(5)\n",
        "print(f\"The distribution of phones by resolution width is: {resouluion}\")\n"
      ],
      "metadata": {
        "colab": {
          "base_uri": "https://localhost:8080/"
        },
        "id": "0FNF9-UcP2Pr",
        "outputId": "3d3b824b-9c7e-4004-e759-c44b7200fce9"
      },
      "execution_count": 69,
      "outputs": [
        {
          "output_type": "stream",
          "name": "stdout",
          "text": [
            "The distribution of phones by resolution width is: resolution_width\n",
            "1080    593\n",
            "720     206\n",
            "1440     61\n",
            "1170     16\n",
            "1600     11\n",
            "Name: count, dtype: int64\n"
          ]
        }
      ]
    },
    {
      "cell_type": "code",
      "source": [],
      "metadata": {
        "id": "uMsRMoIyYDrU"
      },
      "execution_count": null,
      "outputs": []
    }
  ]
}